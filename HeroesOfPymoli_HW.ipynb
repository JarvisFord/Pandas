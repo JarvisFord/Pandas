{
 "cells": [
  {
   "cell_type": "markdown",
   "metadata": {},
   "source": [
    "### Heroes Of Pymoli Data Analysis\n",
    "* Of the 1163 active players, the vast majority are male (84%). There also exists, a smaller, but notable proportion of female players (14%).\n",
    "\n",
    "* Our peak age demographic falls between 20-24 (44.8%) with secondary groups falling between 15-19 (18.60%) and 25-29 (13.4%).  \n",
    "-----"
   ]
  },
  {
   "cell_type": "markdown",
   "metadata": {},
   "source": [
    "### Note\n",
    "* Instructions have been included for each segment. You do not have to follow them exactly, but they are included to help you think through the steps."
   ]
  },
  {
   "cell_type": "code",
   "execution_count": 1,
   "metadata": {},
   "outputs": [
    {
     "data": {
      "text/html": [
       "<div>\n",
       "<style scoped>\n",
       "    .dataframe tbody tr th:only-of-type {\n",
       "        vertical-align: middle;\n",
       "    }\n",
       "\n",
       "    .dataframe tbody tr th {\n",
       "        vertical-align: top;\n",
       "    }\n",
       "\n",
       "    .dataframe thead th {\n",
       "        text-align: right;\n",
       "    }\n",
       "</style>\n",
       "<table border=\"1\" class=\"dataframe\">\n",
       "  <thead>\n",
       "    <tr style=\"text-align: right;\">\n",
       "      <th></th>\n",
       "      <th>Purchase ID</th>\n",
       "      <th>SN</th>\n",
       "      <th>Age</th>\n",
       "      <th>Gender</th>\n",
       "      <th>Item ID</th>\n",
       "      <th>Item Name</th>\n",
       "      <th>Price</th>\n",
       "    </tr>\n",
       "  </thead>\n",
       "  <tbody>\n",
       "    <tr>\n",
       "      <th>0</th>\n",
       "      <td>0</td>\n",
       "      <td>Lisim78</td>\n",
       "      <td>20</td>\n",
       "      <td>Male</td>\n",
       "      <td>108</td>\n",
       "      <td>Extraction, Quickblade Of Trembling Hands</td>\n",
       "      <td>3.53</td>\n",
       "    </tr>\n",
       "    <tr>\n",
       "      <th>1</th>\n",
       "      <td>1</td>\n",
       "      <td>Lisovynya38</td>\n",
       "      <td>40</td>\n",
       "      <td>Male</td>\n",
       "      <td>143</td>\n",
       "      <td>Frenzied Scimitar</td>\n",
       "      <td>1.56</td>\n",
       "    </tr>\n",
       "    <tr>\n",
       "      <th>2</th>\n",
       "      <td>2</td>\n",
       "      <td>Ithergue48</td>\n",
       "      <td>24</td>\n",
       "      <td>Male</td>\n",
       "      <td>92</td>\n",
       "      <td>Final Critic</td>\n",
       "      <td>4.88</td>\n",
       "    </tr>\n",
       "    <tr>\n",
       "      <th>3</th>\n",
       "      <td>3</td>\n",
       "      <td>Chamassasya86</td>\n",
       "      <td>24</td>\n",
       "      <td>Male</td>\n",
       "      <td>100</td>\n",
       "      <td>Blindscythe</td>\n",
       "      <td>3.27</td>\n",
       "    </tr>\n",
       "    <tr>\n",
       "      <th>4</th>\n",
       "      <td>4</td>\n",
       "      <td>Iskosia90</td>\n",
       "      <td>23</td>\n",
       "      <td>Male</td>\n",
       "      <td>131</td>\n",
       "      <td>Fury</td>\n",
       "      <td>1.44</td>\n",
       "    </tr>\n",
       "    <tr>\n",
       "      <th>5</th>\n",
       "      <td>5</td>\n",
       "      <td>Yalae81</td>\n",
       "      <td>22</td>\n",
       "      <td>Male</td>\n",
       "      <td>81</td>\n",
       "      <td>Dreamkiss</td>\n",
       "      <td>3.61</td>\n",
       "    </tr>\n",
       "    <tr>\n",
       "      <th>6</th>\n",
       "      <td>6</td>\n",
       "      <td>Itheria73</td>\n",
       "      <td>36</td>\n",
       "      <td>Male</td>\n",
       "      <td>169</td>\n",
       "      <td>Interrogator, Blood Blade of the Queen</td>\n",
       "      <td>2.18</td>\n",
       "    </tr>\n",
       "    <tr>\n",
       "      <th>7</th>\n",
       "      <td>7</td>\n",
       "      <td>Iskjaskst81</td>\n",
       "      <td>20</td>\n",
       "      <td>Male</td>\n",
       "      <td>162</td>\n",
       "      <td>Abyssal Shard</td>\n",
       "      <td>2.67</td>\n",
       "    </tr>\n",
       "    <tr>\n",
       "      <th>8</th>\n",
       "      <td>8</td>\n",
       "      <td>Undjask33</td>\n",
       "      <td>22</td>\n",
       "      <td>Male</td>\n",
       "      <td>21</td>\n",
       "      <td>Souleater</td>\n",
       "      <td>1.10</td>\n",
       "    </tr>\n",
       "    <tr>\n",
       "      <th>9</th>\n",
       "      <td>9</td>\n",
       "      <td>Chanosian48</td>\n",
       "      <td>35</td>\n",
       "      <td>Other / Non-Disclosed</td>\n",
       "      <td>136</td>\n",
       "      <td>Ghastly Adamantite Protector</td>\n",
       "      <td>3.58</td>\n",
       "    </tr>\n",
       "  </tbody>\n",
       "</table>\n",
       "</div>"
      ],
      "text/plain": [
       "   Purchase ID             SN  Age                 Gender  Item ID  \\\n",
       "0            0        Lisim78   20                   Male      108   \n",
       "1            1    Lisovynya38   40                   Male      143   \n",
       "2            2     Ithergue48   24                   Male       92   \n",
       "3            3  Chamassasya86   24                   Male      100   \n",
       "4            4      Iskosia90   23                   Male      131   \n",
       "5            5        Yalae81   22                   Male       81   \n",
       "6            6      Itheria73   36                   Male      169   \n",
       "7            7    Iskjaskst81   20                   Male      162   \n",
       "8            8      Undjask33   22                   Male       21   \n",
       "9            9    Chanosian48   35  Other / Non-Disclosed      136   \n",
       "\n",
       "                                   Item Name  Price  \n",
       "0  Extraction, Quickblade Of Trembling Hands   3.53  \n",
       "1                          Frenzied Scimitar   1.56  \n",
       "2                               Final Critic   4.88  \n",
       "3                                Blindscythe   3.27  \n",
       "4                                       Fury   1.44  \n",
       "5                                  Dreamkiss   3.61  \n",
       "6     Interrogator, Blood Blade of the Queen   2.18  \n",
       "7                              Abyssal Shard   2.67  \n",
       "8                                  Souleater   1.10  \n",
       "9               Ghastly Adamantite Protector   3.58  "
      ]
     },
     "execution_count": 1,
     "metadata": {},
     "output_type": "execute_result"
    }
   ],
   "source": [
    "# Dependencies and Setup\n",
    "import pandas as pd\n",
    "import numpy as np\n",
    "\n",
    "# File to Load (Remember to Change These)\n",
    "file_to_load = \"Resources/purchase_data.csv\"\n",
    "\n",
    "# Read Purchasing File and store into Pandas data frame\n",
    "purchase_data = pd.read_csv(file_to_load)\n",
    "purchase_data.head(10) "
   ]
  },
  {
   "cell_type": "markdown",
   "metadata": {},
   "source": [
    "## Player Count"
   ]
  },
  {
   "cell_type": "markdown",
   "metadata": {},
   "source": [
    "* Display the total number of players\n"
   ]
  },
  {
   "cell_type": "code",
   "execution_count": 44,
   "metadata": {},
   "outputs": [
    {
     "data": {
      "text/plain": [
       "576"
      ]
     },
     "execution_count": 44,
     "metadata": {},
     "output_type": "execute_result"
    }
   ],
   "source": [
    "total_players = purchase_data[\"SN\"].nunique()\n",
    "total_players"
   ]
  },
  {
   "cell_type": "markdown",
   "metadata": {},
   "source": [
    "## Purchasing Analysis (Total)"
   ]
  },
  {
   "cell_type": "markdown",
   "metadata": {},
   "source": []
  },
  {
   "cell_type": "code",
   "execution_count": 3,
   "metadata": {
    "scrolled": true
   },
   "outputs": [
    {
     "data": {
      "text/plain": [
       "183"
      ]
     },
     "execution_count": 3,
     "metadata": {},
     "output_type": "execute_result"
    }
   ],
   "source": [
    "unique_items = purchase_data[\"Item ID\"].nunique()\n",
    "unique_items"
   ]
  },
  {
   "cell_type": "code",
   "execution_count": 4,
   "metadata": {},
   "outputs": [
    {
     "data": {
      "text/plain": [
       "3.050987179487176"
      ]
     },
     "execution_count": 4,
     "metadata": {},
     "output_type": "execute_result"
    }
   ],
   "source": [
    "avg_price = purchase_data[\"Price\"].mean()\n",
    "avg_price"
   ]
  },
  {
   "cell_type": "code",
   "execution_count": 5,
   "metadata": {},
   "outputs": [
    {
     "data": {
      "text/plain": [
       "780"
      ]
     },
     "execution_count": 5,
     "metadata": {},
     "output_type": "execute_result"
    }
   ],
   "source": [
    "total_purchase = purchase_data[\"Purchase ID\"].nunique()\n",
    "total_purchase"
   ]
  },
  {
   "cell_type": "code",
   "execution_count": 47,
   "metadata": {},
   "outputs": [
    {
     "data": {
      "text/plain": [
       "2379.77"
      ]
     },
     "execution_count": 47,
     "metadata": {},
     "output_type": "execute_result"
    }
   ],
   "source": [
    "total_revenue = purchase_data[\"Price\"].sum()\n",
    "total_revenue"
   ]
  },
  {
   "cell_type": "markdown",
   "metadata": {},
   "source": [
    "## Gender Demographics"
   ]
  },
  {
   "cell_type": "markdown",
   "metadata": {},
   "source": [
    "* Percentage and Count of Male Players\n",
    "\n",
    "\n",
    "* Percentage and Count of Female Players\n",
    "\n",
    "\n",
    "* Percentage and Count of Other / Non-Disclosed\n",
    "\n",
    "\n"
   ]
  },
  {
   "cell_type": "code",
   "execution_count": 7,
   "metadata": {},
   "outputs": [
    {
     "data": {
      "text/plain": [
       "484"
      ]
     },
     "execution_count": 7,
     "metadata": {},
     "output_type": "execute_result"
    }
   ],
   "source": [
    "male_df = purchase_data.loc[purchase_data[\"Gender\"] == \"Male\"]\n",
    "count_male = male_df[\"SN\"].nunique()\n",
    "count_male"
   ]
  },
  {
   "cell_type": "code",
   "execution_count": 8,
   "metadata": {},
   "outputs": [
    {
     "data": {
      "text/plain": [
       "84.02777777777779"
      ]
     },
     "execution_count": 8,
     "metadata": {},
     "output_type": "execute_result"
    }
   ],
   "source": [
    "male_percent = ((count_male/total_players) * 100)\n",
    "male_percent"
   ]
  },
  {
   "cell_type": "code",
   "execution_count": 9,
   "metadata": {},
   "outputs": [
    {
     "data": {
      "text/plain": [
       "81"
      ]
     },
     "execution_count": 9,
     "metadata": {},
     "output_type": "execute_result"
    }
   ],
   "source": [
    "female_df = purchase_data.loc[purchase_data[\"Gender\"] == \"Female\"]\n",
    "count_female = female_df[\"SN\"].nunique()\n",
    "count_female"
   ]
  },
  {
   "cell_type": "code",
   "execution_count": 10,
   "metadata": {},
   "outputs": [
    {
     "data": {
      "text/plain": [
       "14.0625"
      ]
     },
     "execution_count": 10,
     "metadata": {},
     "output_type": "execute_result"
    }
   ],
   "source": [
    "female_percent = ((count_female/total_players) * 100)\n",
    "female_percent"
   ]
  },
  {
   "cell_type": "code",
   "execution_count": 11,
   "metadata": {},
   "outputs": [
    {
     "data": {
      "text/plain": [
       "11"
      ]
     },
     "execution_count": 11,
     "metadata": {},
     "output_type": "execute_result"
    }
   ],
   "source": [
    "other_df = purchase_data.loc[purchase_data[\"Gender\"] == \"Other / Non-Disclosed\"]\n",
    "count_other = other_df[\"SN\"].nunique()\n",
    "count_other"
   ]
  },
  {
   "cell_type": "code",
   "execution_count": 12,
   "metadata": {},
   "outputs": [
    {
     "data": {
      "text/plain": [
       "1.9097222222222223"
      ]
     },
     "execution_count": 12,
     "metadata": {},
     "output_type": "execute_result"
    }
   ],
   "source": [
    "other_percent = ((count_other/total_players) * 100)\n",
    "other_percent"
   ]
  },
  {
   "cell_type": "code",
   "execution_count": null,
   "metadata": {},
   "outputs": [],
   "source": []
  },
  {
   "cell_type": "code",
   "execution_count": null,
   "metadata": {},
   "outputs": [],
   "source": []
  },
  {
   "cell_type": "markdown",
   "metadata": {},
   "source": [
    "\n",
    "## Purchasing Analysis (Gender)"
   ]
  },
  {
   "cell_type": "markdown",
   "metadata": {},
   "source": [
    "* Run basic calculations to obtain purchase count, avg. purchase price, avg. purchase total per person etc. by gender\n",
    "\n",
    "\n",
    "\n",
    "\n",
    "* Create a summary data frame to hold the results\n",
    "\n",
    "\n",
    "* Optional: give the displayed data cleaner formatting\n",
    "\n",
    "\n",
    "* Display the summary data frame"
   ]
  },
  {
   "cell_type": "code",
   "execution_count": 13,
   "metadata": {},
   "outputs": [
    {
     "data": {
      "text/plain": [
       "3.0178527607361953"
      ]
     },
     "execution_count": 13,
     "metadata": {},
     "output_type": "execute_result"
    }
   ],
   "source": [
    "avg_male_price = male_df[\"Price\"].mean()\n",
    "avg_male_price"
   ]
  },
  {
   "cell_type": "code",
   "execution_count": 14,
   "metadata": {},
   "outputs": [
    {
     "data": {
      "text/plain": [
       "652"
      ]
     },
     "execution_count": 14,
     "metadata": {},
     "output_type": "execute_result"
    }
   ],
   "source": [
    "purchase_count_male = male_df[\"Purchase ID\"].nunique()\n",
    "purchase_count_male"
   ]
  },
  {
   "cell_type": "code",
   "execution_count": 15,
   "metadata": {},
   "outputs": [
    {
     "data": {
      "text/plain": [
       "1967.64"
      ]
     },
     "execution_count": 15,
     "metadata": {},
     "output_type": "execute_result"
    }
   ],
   "source": [
    "total_price_male = male_df[\"Price\"].sum()\n",
    "total_price_male"
   ]
  },
  {
   "cell_type": "code",
   "execution_count": 16,
   "metadata": {},
   "outputs": [],
   "source": [
    "#avg total purchase per person"
   ]
  },
  {
   "cell_type": "code",
   "execution_count": 17,
   "metadata": {},
   "outputs": [
    {
     "data": {
      "text/plain": [
       "3.203008849557519"
      ]
     },
     "execution_count": 17,
     "metadata": {},
     "output_type": "execute_result"
    }
   ],
   "source": [
    "avg_female_price = female_df[\"Price\"].mean()\n",
    "avg_female_price"
   ]
  },
  {
   "cell_type": "code",
   "execution_count": 18,
   "metadata": {},
   "outputs": [
    {
     "data": {
      "text/plain": [
       "113"
      ]
     },
     "execution_count": 18,
     "metadata": {},
     "output_type": "execute_result"
    }
   ],
   "source": [
    "purchase_count_female = female_df[\"Purchase ID\"].nunique()\n",
    "purchase_count_female"
   ]
  },
  {
   "cell_type": "code",
   "execution_count": 19,
   "metadata": {},
   "outputs": [
    {
     "data": {
      "text/plain": [
       "361.94"
      ]
     },
     "execution_count": 19,
     "metadata": {},
     "output_type": "execute_result"
    }
   ],
   "source": [
    "total_price_female = female_df[\"Price\"].sum()\n",
    "total_price_female"
   ]
  },
  {
   "cell_type": "code",
   "execution_count": 20,
   "metadata": {},
   "outputs": [],
   "source": [
    "#female avg person purchase"
   ]
  },
  {
   "cell_type": "code",
   "execution_count": 21,
   "metadata": {},
   "outputs": [
    {
     "data": {
      "text/plain": [
       "3.3460000000000005"
      ]
     },
     "execution_count": 21,
     "metadata": {},
     "output_type": "execute_result"
    }
   ],
   "source": [
    "avg_other_price = other_df[\"Price\"].mean()\n",
    "avg_other_price"
   ]
  },
  {
   "cell_type": "code",
   "execution_count": 22,
   "metadata": {},
   "outputs": [
    {
     "data": {
      "text/plain": [
       "15"
      ]
     },
     "execution_count": 22,
     "metadata": {},
     "output_type": "execute_result"
    }
   ],
   "source": [
    "purchase_count_other= other_df[\"Purchase ID\"].nunique()\n",
    "purchase_count_other"
   ]
  },
  {
   "cell_type": "code",
   "execution_count": 23,
   "metadata": {},
   "outputs": [
    {
     "data": {
      "text/plain": [
       "50.19"
      ]
     },
     "execution_count": 23,
     "metadata": {},
     "output_type": "execute_result"
    }
   ],
   "source": [
    "total_price_other = other_df[\"Price\"].sum()\n",
    "total_price_other"
   ]
  },
  {
   "cell_type": "code",
   "execution_count": 24,
   "metadata": {},
   "outputs": [],
   "source": [
    "#other avg person"
   ]
  },
  {
   "cell_type": "code",
   "execution_count": null,
   "metadata": {},
   "outputs": [],
   "source": []
  },
  {
   "cell_type": "markdown",
   "metadata": {},
   "source": [
    "## Age Demographics"
   ]
  },
  {
   "cell_type": "markdown",
   "metadata": {},
   "source": [
    "* Establish bins for ages\n",
    "\n",
    "\n",
    "* Categorize the existing players using the age bins. Hint: use pd.cut()\n",
    "\n",
    "\n",
    "* Calculate the numbers and percentages by age group\n",
    "\n",
    "\n",
    "* Create a summary data frame to hold the results\n",
    "\n",
    "\n",
    "* Optional: round the percentage column to two decimal points\n",
    "\n",
    "\n",
    "* Display Age Demographics Table\n"
   ]
  },
  {
   "cell_type": "code",
   "execution_count": 25,
   "metadata": {},
   "outputs": [
    {
     "data": {
      "text/plain": [
       "0    15-19\n",
       "1    35-39\n",
       "2    20-24\n",
       "3    20-24\n",
       "4    20-24\n",
       "5    20-24\n",
       "6    35-39\n",
       "7    15-19\n",
       "8    20-24\n",
       "9    30-34\n",
       "Name: Age, dtype: category\n",
       "Categories (8, object): [<10 < 10-14 < 15-19 < 20-24 < 25-29 < 30-34 < 35-39 < 40+]"
      ]
     },
     "execution_count": 25,
     "metadata": {},
     "output_type": "execute_result"
    }
   ],
   "source": [
    "bins = [0, 10, 15, 20, 25, 30, 35, 40, 100]\n",
    "labels = [\"<10\", \"10-14\",\"15-19\",\"20-24\",\"25-29\",\"30-34\",\"35-39\",\"40+\"]\n",
    "age_range = pd.cut(purchase_data[\"Age\"], bins, labels=labels)\n",
    "age_range.head(10)"
   ]
  },
  {
   "cell_type": "code",
   "execution_count": null,
   "metadata": {},
   "outputs": [],
   "source": []
  },
  {
   "cell_type": "code",
   "execution_count": null,
   "metadata": {},
   "outputs": [],
   "source": []
  },
  {
   "cell_type": "code",
   "execution_count": null,
   "metadata": {},
   "outputs": [],
   "source": []
  },
  {
   "cell_type": "markdown",
   "metadata": {},
   "source": []
  },
  {
   "cell_type": "markdown",
   "metadata": {},
   "source": []
  },
  {
   "cell_type": "code",
   "execution_count": null,
   "metadata": {},
   "outputs": [],
   "source": []
  },
  {
   "cell_type": "markdown",
   "metadata": {},
   "source": [
    "## Top Spenders"
   ]
  },
  {
   "cell_type": "markdown",
   "metadata": {},
   "source": []
  },
  {
   "cell_type": "code",
   "execution_count": 26,
   "metadata": {},
   "outputs": [
    {
     "data": {
      "text/plain": [
       "Lisosia93      5\n",
       "Iral74         4\n",
       "Idastidru52    4\n",
       "Ialallo29      3\n",
       "Raesty92       3\n",
       "Name: SN, dtype: int64"
      ]
     },
     "execution_count": 26,
     "metadata": {},
     "output_type": "execute_result"
    }
   ],
   "source": [
    "top_sn = purchase_data[\"SN\"].value_counts().nlargest(5) \n",
    "top_sn"
   ]
  },
  {
   "cell_type": "code",
   "execution_count": 27,
   "metadata": {},
   "outputs": [],
   "source": [
    "#find average price per individual and total"
   ]
  },
  {
   "cell_type": "code",
   "execution_count": 28,
   "metadata": {},
   "outputs": [
    {
     "data": {
      "text/plain": [
       "SN           SN         \n",
       "Lisosia93    Lisosia93      5\n",
       "Idastidru52  Idastidru52    4\n",
       "Iral74       Iral74         4\n",
       "Aelin32      Aelin32        3\n",
       "Aina42       Aina42         3\n",
       "Name: SN, dtype: int64"
      ]
     },
     "execution_count": 28,
     "metadata": {},
     "output_type": "execute_result"
    }
   ],
   "source": [
    "sn_numbers = purchase_data[\"SN\"].groupby(purchase_data[\"SN\"]).value_counts().nlargest()\n",
    "sn_numbers"
   ]
  },
  {
   "cell_type": "code",
   "execution_count": 29,
   "metadata": {},
   "outputs": [
    {
     "data": {
      "text/html": [
       "<div>\n",
       "<style scoped>\n",
       "    .dataframe tbody tr th:only-of-type {\n",
       "        vertical-align: middle;\n",
       "    }\n",
       "\n",
       "    .dataframe tbody tr th {\n",
       "        vertical-align: top;\n",
       "    }\n",
       "\n",
       "    .dataframe thead th {\n",
       "        text-align: right;\n",
       "    }\n",
       "</style>\n",
       "<table border=\"1\" class=\"dataframe\">\n",
       "  <thead>\n",
       "    <tr style=\"text-align: right;\">\n",
       "      <th></th>\n",
       "      <th>Price</th>\n",
       "    </tr>\n",
       "    <tr>\n",
       "      <th>SN</th>\n",
       "      <th></th>\n",
       "    </tr>\n",
       "  </thead>\n",
       "  <tbody>\n",
       "    <tr>\n",
       "      <th>Lisosia93</th>\n",
       "      <td>18.96</td>\n",
       "    </tr>\n",
       "    <tr>\n",
       "      <th>Idastidru52</th>\n",
       "      <td>15.45</td>\n",
       "    </tr>\n",
       "    <tr>\n",
       "      <th>Chamjask73</th>\n",
       "      <td>13.83</td>\n",
       "    </tr>\n",
       "    <tr>\n",
       "      <th>Iral74</th>\n",
       "      <td>13.62</td>\n",
       "    </tr>\n",
       "    <tr>\n",
       "      <th>Iskadarya95</th>\n",
       "      <td>13.10</td>\n",
       "    </tr>\n",
       "  </tbody>\n",
       "</table>\n",
       "</div>"
      ],
      "text/plain": [
       "             Price\n",
       "SN                \n",
       "Lisosia93    18.96\n",
       "Idastidru52  15.45\n",
       "Chamjask73   13.83\n",
       "Iral74       13.62\n",
       "Iskadarya95  13.10"
      ]
     },
     "execution_count": 29,
     "metadata": {},
     "output_type": "execute_result"
    }
   ],
   "source": [
    "largest_five = pd.DataFrame(purchase_data.groupby('SN')['Price'].sum().nlargest(5))\n",
    "largest_five"
   ]
  },
  {
   "cell_type": "code",
   "execution_count": 30,
   "metadata": {},
   "outputs": [
    {
     "data": {
      "text/html": [
       "<div>\n",
       "<style scoped>\n",
       "    .dataframe tbody tr th:only-of-type {\n",
       "        vertical-align: middle;\n",
       "    }\n",
       "\n",
       "    .dataframe tbody tr th {\n",
       "        vertical-align: top;\n",
       "    }\n",
       "\n",
       "    .dataframe thead th {\n",
       "        text-align: right;\n",
       "    }\n",
       "</style>\n",
       "<table border=\"1\" class=\"dataframe\">\n",
       "  <thead>\n",
       "    <tr style=\"text-align: right;\">\n",
       "      <th></th>\n",
       "      <th>Purchase ID</th>\n",
       "      <th>SN</th>\n",
       "      <th>Age</th>\n",
       "      <th>Gender</th>\n",
       "      <th>Item ID</th>\n",
       "      <th>Item Name</th>\n",
       "      <th>Price_x</th>\n",
       "      <th>Price_y</th>\n",
       "    </tr>\n",
       "  </thead>\n",
       "  <tbody>\n",
       "    <tr>\n",
       "      <th>0</th>\n",
       "      <td>74</td>\n",
       "      <td>Lisosia93</td>\n",
       "      <td>25</td>\n",
       "      <td>Male</td>\n",
       "      <td>89</td>\n",
       "      <td>Blazefury, Protector of Delusions</td>\n",
       "      <td>4.64</td>\n",
       "      <td>18.96</td>\n",
       "    </tr>\n",
       "    <tr>\n",
       "      <th>1</th>\n",
       "      <td>120</td>\n",
       "      <td>Lisosia93</td>\n",
       "      <td>25</td>\n",
       "      <td>Male</td>\n",
       "      <td>24</td>\n",
       "      <td>Warped Fetish</td>\n",
       "      <td>3.81</td>\n",
       "      <td>18.96</td>\n",
       "    </tr>\n",
       "    <tr>\n",
       "      <th>2</th>\n",
       "      <td>224</td>\n",
       "      <td>Lisosia93</td>\n",
       "      <td>25</td>\n",
       "      <td>Male</td>\n",
       "      <td>157</td>\n",
       "      <td>Spada, Etcher of Hatred</td>\n",
       "      <td>4.80</td>\n",
       "      <td>18.96</td>\n",
       "    </tr>\n",
       "    <tr>\n",
       "      <th>3</th>\n",
       "      <td>603</td>\n",
       "      <td>Lisosia93</td>\n",
       "      <td>25</td>\n",
       "      <td>Male</td>\n",
       "      <td>141</td>\n",
       "      <td>Persuasion</td>\n",
       "      <td>3.19</td>\n",
       "      <td>18.96</td>\n",
       "    </tr>\n",
       "    <tr>\n",
       "      <th>4</th>\n",
       "      <td>609</td>\n",
       "      <td>Lisosia93</td>\n",
       "      <td>25</td>\n",
       "      <td>Male</td>\n",
       "      <td>40</td>\n",
       "      <td>Second Chance</td>\n",
       "      <td>2.52</td>\n",
       "      <td>18.96</td>\n",
       "    </tr>\n",
       "    <tr>\n",
       "      <th>5</th>\n",
       "      <td>128</td>\n",
       "      <td>Iral74</td>\n",
       "      <td>21</td>\n",
       "      <td>Male</td>\n",
       "      <td>58</td>\n",
       "      <td>Freak's Bite, Favor of Holy Might</td>\n",
       "      <td>4.14</td>\n",
       "      <td>13.62</td>\n",
       "    </tr>\n",
       "    <tr>\n",
       "      <th>6</th>\n",
       "      <td>623</td>\n",
       "      <td>Iral74</td>\n",
       "      <td>21</td>\n",
       "      <td>Male</td>\n",
       "      <td>114</td>\n",
       "      <td>Yearning Mageblade</td>\n",
       "      <td>3.82</td>\n",
       "      <td>13.62</td>\n",
       "    </tr>\n",
       "    <tr>\n",
       "      <th>7</th>\n",
       "      <td>758</td>\n",
       "      <td>Iral74</td>\n",
       "      <td>21</td>\n",
       "      <td>Male</td>\n",
       "      <td>182</td>\n",
       "      <td>Toothpick</td>\n",
       "      <td>4.03</td>\n",
       "      <td>13.62</td>\n",
       "    </tr>\n",
       "    <tr>\n",
       "      <th>8</th>\n",
       "      <td>776</td>\n",
       "      <td>Iral74</td>\n",
       "      <td>21</td>\n",
       "      <td>Male</td>\n",
       "      <td>164</td>\n",
       "      <td>Exiled Doomblade</td>\n",
       "      <td>1.63</td>\n",
       "      <td>13.62</td>\n",
       "    </tr>\n",
       "    <tr>\n",
       "      <th>9</th>\n",
       "      <td>148</td>\n",
       "      <td>Iskadarya95</td>\n",
       "      <td>20</td>\n",
       "      <td>Male</td>\n",
       "      <td>148</td>\n",
       "      <td>Warmonger, Gift of Suffering's End</td>\n",
       "      <td>4.03</td>\n",
       "      <td>13.10</td>\n",
       "    </tr>\n",
       "    <tr>\n",
       "      <th>10</th>\n",
       "      <td>247</td>\n",
       "      <td>Iskadarya95</td>\n",
       "      <td>20</td>\n",
       "      <td>Male</td>\n",
       "      <td>82</td>\n",
       "      <td>Nirvana</td>\n",
       "      <td>4.90</td>\n",
       "      <td>13.10</td>\n",
       "    </tr>\n",
       "    <tr>\n",
       "      <th>11</th>\n",
       "      <td>318</td>\n",
       "      <td>Iskadarya95</td>\n",
       "      <td>20</td>\n",
       "      <td>Male</td>\n",
       "      <td>91</td>\n",
       "      <td>Celeste</td>\n",
       "      <td>4.17</td>\n",
       "      <td>13.10</td>\n",
       "    </tr>\n",
       "    <tr>\n",
       "      <th>12</th>\n",
       "      <td>222</td>\n",
       "      <td>Chamjask73</td>\n",
       "      <td>22</td>\n",
       "      <td>Female</td>\n",
       "      <td>178</td>\n",
       "      <td>Oathbreaker, Last Hope of the Breaking Storm</td>\n",
       "      <td>4.23</td>\n",
       "      <td>13.83</td>\n",
       "    </tr>\n",
       "    <tr>\n",
       "      <th>13</th>\n",
       "      <td>520</td>\n",
       "      <td>Chamjask73</td>\n",
       "      <td>22</td>\n",
       "      <td>Female</td>\n",
       "      <td>109</td>\n",
       "      <td>Downfall, Scalpel Of The Emperor</td>\n",
       "      <td>4.76</td>\n",
       "      <td>13.83</td>\n",
       "    </tr>\n",
       "    <tr>\n",
       "      <th>14</th>\n",
       "      <td>564</td>\n",
       "      <td>Chamjask73</td>\n",
       "      <td>22</td>\n",
       "      <td>Female</td>\n",
       "      <td>52</td>\n",
       "      <td>Hatred</td>\n",
       "      <td>4.84</td>\n",
       "      <td>13.83</td>\n",
       "    </tr>\n",
       "    <tr>\n",
       "      <th>15</th>\n",
       "      <td>290</td>\n",
       "      <td>Idastidru52</td>\n",
       "      <td>24</td>\n",
       "      <td>Male</td>\n",
       "      <td>147</td>\n",
       "      <td>Hellreaver, Heirloom of Inception</td>\n",
       "      <td>4.93</td>\n",
       "      <td>15.45</td>\n",
       "    </tr>\n",
       "    <tr>\n",
       "      <th>16</th>\n",
       "      <td>490</td>\n",
       "      <td>Idastidru52</td>\n",
       "      <td>24</td>\n",
       "      <td>Male</td>\n",
       "      <td>148</td>\n",
       "      <td>Warmonger, Gift of Suffering's End</td>\n",
       "      <td>4.03</td>\n",
       "      <td>15.45</td>\n",
       "    </tr>\n",
       "    <tr>\n",
       "      <th>17</th>\n",
       "      <td>543</td>\n",
       "      <td>Idastidru52</td>\n",
       "      <td>24</td>\n",
       "      <td>Male</td>\n",
       "      <td>121</td>\n",
       "      <td>Massacre</td>\n",
       "      <td>1.60</td>\n",
       "      <td>15.45</td>\n",
       "    </tr>\n",
       "    <tr>\n",
       "      <th>18</th>\n",
       "      <td>676</td>\n",
       "      <td>Idastidru52</td>\n",
       "      <td>24</td>\n",
       "      <td>Male</td>\n",
       "      <td>111</td>\n",
       "      <td>Misery's End</td>\n",
       "      <td>4.89</td>\n",
       "      <td>15.45</td>\n",
       "    </tr>\n",
       "  </tbody>\n",
       "</table>\n",
       "</div>"
      ],
      "text/plain": [
       "    Purchase ID           SN  Age  Gender  Item ID  \\\n",
       "0            74    Lisosia93   25    Male       89   \n",
       "1           120    Lisosia93   25    Male       24   \n",
       "2           224    Lisosia93   25    Male      157   \n",
       "3           603    Lisosia93   25    Male      141   \n",
       "4           609    Lisosia93   25    Male       40   \n",
       "5           128       Iral74   21    Male       58   \n",
       "6           623       Iral74   21    Male      114   \n",
       "7           758       Iral74   21    Male      182   \n",
       "8           776       Iral74   21    Male      164   \n",
       "9           148  Iskadarya95   20    Male      148   \n",
       "10          247  Iskadarya95   20    Male       82   \n",
       "11          318  Iskadarya95   20    Male       91   \n",
       "12          222   Chamjask73   22  Female      178   \n",
       "13          520   Chamjask73   22  Female      109   \n",
       "14          564   Chamjask73   22  Female       52   \n",
       "15          290  Idastidru52   24    Male      147   \n",
       "16          490  Idastidru52   24    Male      148   \n",
       "17          543  Idastidru52   24    Male      121   \n",
       "18          676  Idastidru52   24    Male      111   \n",
       "\n",
       "                                       Item Name  Price_x  Price_y  \n",
       "0              Blazefury, Protector of Delusions     4.64    18.96  \n",
       "1                                  Warped Fetish     3.81    18.96  \n",
       "2                        Spada, Etcher of Hatred     4.80    18.96  \n",
       "3                                     Persuasion     3.19    18.96  \n",
       "4                                  Second Chance     2.52    18.96  \n",
       "5              Freak's Bite, Favor of Holy Might     4.14    13.62  \n",
       "6                             Yearning Mageblade     3.82    13.62  \n",
       "7                                      Toothpick     4.03    13.62  \n",
       "8                               Exiled Doomblade     1.63    13.62  \n",
       "9             Warmonger, Gift of Suffering's End     4.03    13.10  \n",
       "10                                       Nirvana     4.90    13.10  \n",
       "11                                       Celeste     4.17    13.10  \n",
       "12  Oathbreaker, Last Hope of the Breaking Storm     4.23    13.83  \n",
       "13              Downfall, Scalpel Of The Emperor     4.76    13.83  \n",
       "14                                        Hatred     4.84    13.83  \n",
       "15             Hellreaver, Heirloom of Inception     4.93    15.45  \n",
       "16            Warmonger, Gift of Suffering's End     4.03    15.45  \n",
       "17                                      Massacre     1.60    15.45  \n",
       "18                                  Misery's End     4.89    15.45  "
      ]
     },
     "execution_count": 30,
     "metadata": {},
     "output_type": "execute_result"
    }
   ],
   "source": [
    "pd.merge(purchase_data, largest_five, how='inner', on=['SN'])\n"
   ]
  },
  {
   "cell_type": "code",
   "execution_count": 31,
   "metadata": {},
   "outputs": [
    {
     "data": {
      "text/html": [
       "<div>\n",
       "<style scoped>\n",
       "    .dataframe tbody tr th:only-of-type {\n",
       "        vertical-align: middle;\n",
       "    }\n",
       "\n",
       "    .dataframe tbody tr th {\n",
       "        vertical-align: top;\n",
       "    }\n",
       "\n",
       "    .dataframe thead th {\n",
       "        text-align: right;\n",
       "    }\n",
       "</style>\n",
       "<table border=\"1\" class=\"dataframe\">\n",
       "  <thead>\n",
       "    <tr style=\"text-align: right;\">\n",
       "      <th></th>\n",
       "      <th>Price</th>\n",
       "    </tr>\n",
       "    <tr>\n",
       "      <th>SN</th>\n",
       "      <th></th>\n",
       "    </tr>\n",
       "  </thead>\n",
       "  <tbody>\n",
       "    <tr>\n",
       "      <th>Dyally87</th>\n",
       "      <td>4.99</td>\n",
       "    </tr>\n",
       "    <tr>\n",
       "      <th>Chanirrasta87</th>\n",
       "      <td>4.94</td>\n",
       "    </tr>\n",
       "    <tr>\n",
       "      <th>Lirtilsa71</th>\n",
       "      <td>4.94</td>\n",
       "    </tr>\n",
       "    <tr>\n",
       "      <th>Ririp86</th>\n",
       "      <td>4.94</td>\n",
       "    </tr>\n",
       "    <tr>\n",
       "      <th>Yarithsurgue62</th>\n",
       "      <td>4.94</td>\n",
       "    </tr>\n",
       "  </tbody>\n",
       "</table>\n",
       "</div>"
      ],
      "text/plain": [
       "                Price\n",
       "SN                   \n",
       "Dyally87         4.99\n",
       "Chanirrasta87    4.94\n",
       "Lirtilsa71       4.94\n",
       "Ririp86          4.94\n",
       "Yarithsurgue62   4.94"
      ]
     },
     "execution_count": 31,
     "metadata": {},
     "output_type": "execute_result"
    }
   ],
   "source": [
    "avg_five = pd.DataFrame(purchase_data.groupby('SN')['Price'].mean().nlargest(5))\n",
    "avg_five "
   ]
  },
  {
   "cell_type": "code",
   "execution_count": 32,
   "metadata": {},
   "outputs": [
    {
     "data": {
      "text/html": [
       "<div>\n",
       "<style scoped>\n",
       "    .dataframe tbody tr th:only-of-type {\n",
       "        vertical-align: middle;\n",
       "    }\n",
       "\n",
       "    .dataframe tbody tr th {\n",
       "        vertical-align: top;\n",
       "    }\n",
       "\n",
       "    .dataframe thead th {\n",
       "        text-align: right;\n",
       "    }\n",
       "</style>\n",
       "<table border=\"1\" class=\"dataframe\">\n",
       "  <thead>\n",
       "    <tr style=\"text-align: right;\">\n",
       "      <th></th>\n",
       "      <th>Purchase ID</th>\n",
       "      <th>SN</th>\n",
       "      <th>Age</th>\n",
       "      <th>Gender</th>\n",
       "      <th>Item ID</th>\n",
       "      <th>Item Name</th>\n",
       "      <th>Price_x</th>\n",
       "      <th>Price_y</th>\n",
       "    </tr>\n",
       "  </thead>\n",
       "  <tbody>\n",
       "    <tr>\n",
       "      <th>0</th>\n",
       "      <td>110</td>\n",
       "      <td>Ririp86</td>\n",
       "      <td>25</td>\n",
       "      <td>Male</td>\n",
       "      <td>139</td>\n",
       "      <td>Mercy, Katana of Dismay</td>\n",
       "      <td>4.94</td>\n",
       "      <td>4.94</td>\n",
       "    </tr>\n",
       "    <tr>\n",
       "      <th>1</th>\n",
       "      <td>231</td>\n",
       "      <td>Yarithsurgue62</td>\n",
       "      <td>26</td>\n",
       "      <td>Male</td>\n",
       "      <td>139</td>\n",
       "      <td>Mercy, Katana of Dismay</td>\n",
       "      <td>4.94</td>\n",
       "      <td>4.94</td>\n",
       "    </tr>\n",
       "    <tr>\n",
       "      <th>2</th>\n",
       "      <td>246</td>\n",
       "      <td>Lirtilsa71</td>\n",
       "      <td>24</td>\n",
       "      <td>Male</td>\n",
       "      <td>139</td>\n",
       "      <td>Mercy, Katana of Dismay</td>\n",
       "      <td>4.94</td>\n",
       "      <td>4.94</td>\n",
       "    </tr>\n",
       "    <tr>\n",
       "      <th>3</th>\n",
       "      <td>493</td>\n",
       "      <td>Chanirrasta87</td>\n",
       "      <td>14</td>\n",
       "      <td>Male</td>\n",
       "      <td>139</td>\n",
       "      <td>Mercy, Katana of Dismay</td>\n",
       "      <td>4.94</td>\n",
       "      <td>4.94</td>\n",
       "    </tr>\n",
       "    <tr>\n",
       "      <th>4</th>\n",
       "      <td>554</td>\n",
       "      <td>Dyally87</td>\n",
       "      <td>22</td>\n",
       "      <td>Male</td>\n",
       "      <td>63</td>\n",
       "      <td>Stormfury Mace</td>\n",
       "      <td>4.99</td>\n",
       "      <td>4.99</td>\n",
       "    </tr>\n",
       "  </tbody>\n",
       "</table>\n",
       "</div>"
      ],
      "text/plain": [
       "   Purchase ID              SN  Age Gender  Item ID                Item Name  \\\n",
       "0          110         Ririp86   25   Male      139  Mercy, Katana of Dismay   \n",
       "1          231  Yarithsurgue62   26   Male      139  Mercy, Katana of Dismay   \n",
       "2          246      Lirtilsa71   24   Male      139  Mercy, Katana of Dismay   \n",
       "3          493   Chanirrasta87   14   Male      139  Mercy, Katana of Dismay   \n",
       "4          554        Dyally87   22   Male       63           Stormfury Mace   \n",
       "\n",
       "   Price_x  Price_y  \n",
       "0     4.94     4.94  \n",
       "1     4.94     4.94  \n",
       "2     4.94     4.94  \n",
       "3     4.94     4.94  \n",
       "4     4.99     4.99  "
      ]
     },
     "execution_count": 32,
     "metadata": {},
     "output_type": "execute_result"
    }
   ],
   "source": [
    "pd.merge(purchase_data, avg_five, how='inner', on=['SN'])"
   ]
  },
  {
   "cell_type": "markdown",
   "metadata": {},
   "source": [
    "## Most Popular Items"
   ]
  },
  {
   "cell_type": "markdown",
   "metadata": {},
   "source": [
    "* Retrieve the Item ID, Item Name, and Item Price columns\n",
    "\n",
    "\n",
    "* Group by Item ID and Item Name. Perform calculations to obtain purchase count, item price, and total purchase value\n",
    "\n",
    "\n",
    "* Create a summary data frame to hold the results\n",
    "\n",
    "\n",
    "* Sort the purchase count column in descending order\n",
    "\n",
    "\n",
    "* Optional: give the displayed data cleaner formatting\n",
    "\n",
    "\n",
    "* Display a preview of the summary data frame\n",
    "\n"
   ]
  },
  {
   "cell_type": "code",
   "execution_count": 33,
   "metadata": {},
   "outputs": [
    {
     "data": {
      "text/plain": [
       "Final Critic                                    13\n",
       "Oathbreaker, Last Hope of the Breaking Storm    12\n",
       "Persuasion                                       9\n",
       "Extraction, Quickblade Of Trembling Hands        9\n",
       "Fiery Glass Crusader                             9\n",
       "Name: Item Name, dtype: int64"
      ]
     },
     "execution_count": 33,
     "metadata": {},
     "output_type": "execute_result"
    }
   ],
   "source": [
    "purchase_data[\"Item Name\"].value_counts().nlargest(5) "
   ]
  },
  {
   "cell_type": "code",
   "execution_count": 34,
   "metadata": {},
   "outputs": [
    {
     "data": {
      "text/html": [
       "<div>\n",
       "<style scoped>\n",
       "    .dataframe tbody tr th:only-of-type {\n",
       "        vertical-align: middle;\n",
       "    }\n",
       "\n",
       "    .dataframe tbody tr th {\n",
       "        vertical-align: top;\n",
       "    }\n",
       "\n",
       "    .dataframe thead th {\n",
       "        text-align: right;\n",
       "    }\n",
       "</style>\n",
       "<table border=\"1\" class=\"dataframe\">\n",
       "  <thead>\n",
       "    <tr style=\"text-align: right;\">\n",
       "      <th></th>\n",
       "      <th></th>\n",
       "      <th>Price</th>\n",
       "    </tr>\n",
       "    <tr>\n",
       "      <th>Item Name</th>\n",
       "      <th>Price</th>\n",
       "      <th></th>\n",
       "    </tr>\n",
       "  </thead>\n",
       "  <tbody>\n",
       "    <tr>\n",
       "      <th>Oathbreaker, Last Hope of the Breaking Storm</th>\n",
       "      <th>4.23</th>\n",
       "      <td>12</td>\n",
       "    </tr>\n",
       "    <tr>\n",
       "      <th>Extraction, Quickblade Of Trembling Hands</th>\n",
       "      <th>3.53</th>\n",
       "      <td>9</td>\n",
       "    </tr>\n",
       "    <tr>\n",
       "      <th>Fiery Glass Crusader</th>\n",
       "      <th>4.58</th>\n",
       "      <td>9</td>\n",
       "    </tr>\n",
       "    <tr>\n",
       "      <th>Nirvana</th>\n",
       "      <th>4.90</th>\n",
       "      <td>9</td>\n",
       "    </tr>\n",
       "    <tr>\n",
       "      <th>Brutality Ivory Warmace</th>\n",
       "      <th>2.42</th>\n",
       "      <td>8</td>\n",
       "    </tr>\n",
       "  </tbody>\n",
       "</table>\n",
       "</div>"
      ],
      "text/plain": [
       "                                                    Price\n",
       "Item Name                                    Price       \n",
       "Oathbreaker, Last Hope of the Breaking Storm 4.23      12\n",
       "Extraction, Quickblade Of Trembling Hands    3.53       9\n",
       "Fiery Glass Crusader                         4.58       9\n",
       "Nirvana                                      4.90       9\n",
       "Brutality Ivory Warmace                      2.42       8"
      ]
     },
     "execution_count": 34,
     "metadata": {},
     "output_type": "execute_result"
    }
   ],
   "source": [
    "largest_item = pd.DataFrame(purchase_data.groupby('Item Name')['Price'].value_counts().nlargest(5))\n",
    "largest_item"
   ]
  },
  {
   "cell_type": "code",
   "execution_count": 35,
   "metadata": {},
   "outputs": [
    {
     "data": {
      "text/html": [
       "<div>\n",
       "<style scoped>\n",
       "    .dataframe tbody tr th:only-of-type {\n",
       "        vertical-align: middle;\n",
       "    }\n",
       "\n",
       "    .dataframe tbody tr th {\n",
       "        vertical-align: top;\n",
       "    }\n",
       "\n",
       "    .dataframe thead th {\n",
       "        text-align: right;\n",
       "    }\n",
       "</style>\n",
       "<table border=\"1\" class=\"dataframe\">\n",
       "  <thead>\n",
       "    <tr style=\"text-align: right;\">\n",
       "      <th></th>\n",
       "      <th>Purchase ID</th>\n",
       "      <th>SN</th>\n",
       "      <th>Age</th>\n",
       "      <th>Gender</th>\n",
       "      <th>Item ID</th>\n",
       "      <th>Item Name</th>\n",
       "      <th>PricePer Item</th>\n",
       "      <th>PriceItem Total</th>\n",
       "    </tr>\n",
       "  </thead>\n",
       "  <tbody>\n",
       "    <tr>\n",
       "      <th>0</th>\n",
       "      <td>0</td>\n",
       "      <td>Lisim78</td>\n",
       "      <td>20</td>\n",
       "      <td>Male</td>\n",
       "      <td>108</td>\n",
       "      <td>Extraction, Quickblade Of Trembling Hands</td>\n",
       "      <td>3.53</td>\n",
       "      <td>9</td>\n",
       "    </tr>\n",
       "    <tr>\n",
       "      <th>1</th>\n",
       "      <td>56</td>\n",
       "      <td>Raesty92</td>\n",
       "      <td>12</td>\n",
       "      <td>Male</td>\n",
       "      <td>108</td>\n",
       "      <td>Extraction, Quickblade Of Trembling Hands</td>\n",
       "      <td>3.53</td>\n",
       "      <td>9</td>\n",
       "    </tr>\n",
       "    <tr>\n",
       "      <th>2</th>\n",
       "      <td>157</td>\n",
       "      <td>Marast30</td>\n",
       "      <td>18</td>\n",
       "      <td>Female</td>\n",
       "      <td>108</td>\n",
       "      <td>Extraction, Quickblade Of Trembling Hands</td>\n",
       "      <td>3.53</td>\n",
       "      <td>9</td>\n",
       "    </tr>\n",
       "    <tr>\n",
       "      <th>3</th>\n",
       "      <td>414</td>\n",
       "      <td>Marokian45</td>\n",
       "      <td>23</td>\n",
       "      <td>Male</td>\n",
       "      <td>108</td>\n",
       "      <td>Extraction, Quickblade Of Trembling Hands</td>\n",
       "      <td>3.53</td>\n",
       "      <td>9</td>\n",
       "    </tr>\n",
       "    <tr>\n",
       "      <th>4</th>\n",
       "      <td>483</td>\n",
       "      <td>Saistyphos30</td>\n",
       "      <td>35</td>\n",
       "      <td>Male</td>\n",
       "      <td>108</td>\n",
       "      <td>Extraction, Quickblade Of Trembling Hands</td>\n",
       "      <td>3.53</td>\n",
       "      <td>9</td>\n",
       "    </tr>\n",
       "    <tr>\n",
       "      <th>5</th>\n",
       "      <td>498</td>\n",
       "      <td>Firon67</td>\n",
       "      <td>35</td>\n",
       "      <td>Male</td>\n",
       "      <td>108</td>\n",
       "      <td>Extraction, Quickblade Of Trembling Hands</td>\n",
       "      <td>3.53</td>\n",
       "      <td>9</td>\n",
       "    </tr>\n",
       "    <tr>\n",
       "      <th>6</th>\n",
       "      <td>558</td>\n",
       "      <td>Lassadarsda57</td>\n",
       "      <td>25</td>\n",
       "      <td>Female</td>\n",
       "      <td>108</td>\n",
       "      <td>Extraction, Quickblade Of Trembling Hands</td>\n",
       "      <td>3.53</td>\n",
       "      <td>9</td>\n",
       "    </tr>\n",
       "    <tr>\n",
       "      <th>7</th>\n",
       "      <td>640</td>\n",
       "      <td>Sausosia74</td>\n",
       "      <td>22</td>\n",
       "      <td>Male</td>\n",
       "      <td>108</td>\n",
       "      <td>Extraction, Quickblade Of Trembling Hands</td>\n",
       "      <td>3.53</td>\n",
       "      <td>9</td>\n",
       "    </tr>\n",
       "    <tr>\n",
       "      <th>8</th>\n",
       "      <td>678</td>\n",
       "      <td>Rarallo90</td>\n",
       "      <td>33</td>\n",
       "      <td>Male</td>\n",
       "      <td>108</td>\n",
       "      <td>Extraction, Quickblade Of Trembling Hands</td>\n",
       "      <td>3.53</td>\n",
       "      <td>9</td>\n",
       "    </tr>\n",
       "    <tr>\n",
       "      <th>9</th>\n",
       "      <td>18</td>\n",
       "      <td>Reunasu60</td>\n",
       "      <td>22</td>\n",
       "      <td>Female</td>\n",
       "      <td>82</td>\n",
       "      <td>Nirvana</td>\n",
       "      <td>4.90</td>\n",
       "      <td>9</td>\n",
       "    </tr>\n",
       "    <tr>\n",
       "      <th>10</th>\n",
       "      <td>88</td>\n",
       "      <td>Laedallo55</td>\n",
       "      <td>30</td>\n",
       "      <td>Male</td>\n",
       "      <td>82</td>\n",
       "      <td>Nirvana</td>\n",
       "      <td>4.90</td>\n",
       "      <td>9</td>\n",
       "    </tr>\n",
       "    <tr>\n",
       "      <th>11</th>\n",
       "      <td>202</td>\n",
       "      <td>Phistym51</td>\n",
       "      <td>37</td>\n",
       "      <td>Male</td>\n",
       "      <td>82</td>\n",
       "      <td>Nirvana</td>\n",
       "      <td>4.90</td>\n",
       "      <td>9</td>\n",
       "    </tr>\n",
       "    <tr>\n",
       "      <th>12</th>\n",
       "      <td>240</td>\n",
       "      <td>Lirtastsda29</td>\n",
       "      <td>16</td>\n",
       "      <td>Male</td>\n",
       "      <td>82</td>\n",
       "      <td>Nirvana</td>\n",
       "      <td>4.90</td>\n",
       "      <td>9</td>\n",
       "    </tr>\n",
       "    <tr>\n",
       "      <th>13</th>\n",
       "      <td>247</td>\n",
       "      <td>Iskadarya95</td>\n",
       "      <td>20</td>\n",
       "      <td>Male</td>\n",
       "      <td>82</td>\n",
       "      <td>Nirvana</td>\n",
       "      <td>4.90</td>\n",
       "      <td>9</td>\n",
       "    </tr>\n",
       "    <tr>\n",
       "      <th>14</th>\n",
       "      <td>274</td>\n",
       "      <td>Aerithllora36</td>\n",
       "      <td>29</td>\n",
       "      <td>Female</td>\n",
       "      <td>82</td>\n",
       "      <td>Nirvana</td>\n",
       "      <td>4.90</td>\n",
       "      <td>9</td>\n",
       "    </tr>\n",
       "    <tr>\n",
       "      <th>15</th>\n",
       "      <td>504</td>\n",
       "      <td>Chamilsala65</td>\n",
       "      <td>23</td>\n",
       "      <td>Female</td>\n",
       "      <td>82</td>\n",
       "      <td>Nirvana</td>\n",
       "      <td>4.90</td>\n",
       "      <td>9</td>\n",
       "    </tr>\n",
       "    <tr>\n",
       "      <th>16</th>\n",
       "      <td>522</td>\n",
       "      <td>Meosridil82</td>\n",
       "      <td>18</td>\n",
       "      <td>Male</td>\n",
       "      <td>82</td>\n",
       "      <td>Nirvana</td>\n",
       "      <td>4.90</td>\n",
       "      <td>9</td>\n",
       "    </tr>\n",
       "    <tr>\n",
       "      <th>17</th>\n",
       "      <td>666</td>\n",
       "      <td>Assilsan72</td>\n",
       "      <td>20</td>\n",
       "      <td>Female</td>\n",
       "      <td>82</td>\n",
       "      <td>Nirvana</td>\n",
       "      <td>4.90</td>\n",
       "      <td>9</td>\n",
       "    </tr>\n",
       "    <tr>\n",
       "      <th>18</th>\n",
       "      <td>25</td>\n",
       "      <td>Lisirra87</td>\n",
       "      <td>29</td>\n",
       "      <td>Male</td>\n",
       "      <td>178</td>\n",
       "      <td>Oathbreaker, Last Hope of the Breaking Storm</td>\n",
       "      <td>4.23</td>\n",
       "      <td>12</td>\n",
       "    </tr>\n",
       "    <tr>\n",
       "      <th>19</th>\n",
       "      <td>61</td>\n",
       "      <td>Jiskimya77</td>\n",
       "      <td>17</td>\n",
       "      <td>Male</td>\n",
       "      <td>178</td>\n",
       "      <td>Oathbreaker, Last Hope of the Breaking Storm</td>\n",
       "      <td>4.23</td>\n",
       "      <td>12</td>\n",
       "    </tr>\n",
       "    <tr>\n",
       "      <th>20</th>\n",
       "      <td>62</td>\n",
       "      <td>Yadaphos40</td>\n",
       "      <td>30</td>\n",
       "      <td>Male</td>\n",
       "      <td>178</td>\n",
       "      <td>Oathbreaker, Last Hope of the Breaking Storm</td>\n",
       "      <td>4.23</td>\n",
       "      <td>12</td>\n",
       "    </tr>\n",
       "    <tr>\n",
       "      <th>21</th>\n",
       "      <td>72</td>\n",
       "      <td>Marilsa69</td>\n",
       "      <td>25</td>\n",
       "      <td>Female</td>\n",
       "      <td>178</td>\n",
       "      <td>Oathbreaker, Last Hope of the Breaking Storm</td>\n",
       "      <td>4.23</td>\n",
       "      <td>12</td>\n",
       "    </tr>\n",
       "    <tr>\n",
       "      <th>22</th>\n",
       "      <td>222</td>\n",
       "      <td>Chamjask73</td>\n",
       "      <td>22</td>\n",
       "      <td>Female</td>\n",
       "      <td>178</td>\n",
       "      <td>Oathbreaker, Last Hope of the Breaking Storm</td>\n",
       "      <td>4.23</td>\n",
       "      <td>12</td>\n",
       "    </tr>\n",
       "    <tr>\n",
       "      <th>23</th>\n",
       "      <td>464</td>\n",
       "      <td>Rianistast50</td>\n",
       "      <td>22</td>\n",
       "      <td>Male</td>\n",
       "      <td>178</td>\n",
       "      <td>Oathbreaker, Last Hope of the Breaking Storm</td>\n",
       "      <td>4.23</td>\n",
       "      <td>12</td>\n",
       "    </tr>\n",
       "    <tr>\n",
       "      <th>24</th>\n",
       "      <td>580</td>\n",
       "      <td>Tyida79</td>\n",
       "      <td>24</td>\n",
       "      <td>Male</td>\n",
       "      <td>178</td>\n",
       "      <td>Oathbreaker, Last Hope of the Breaking Storm</td>\n",
       "      <td>4.23</td>\n",
       "      <td>12</td>\n",
       "    </tr>\n",
       "    <tr>\n",
       "      <th>25</th>\n",
       "      <td>627</td>\n",
       "      <td>Arin32</td>\n",
       "      <td>25</td>\n",
       "      <td>Male</td>\n",
       "      <td>178</td>\n",
       "      <td>Oathbreaker, Last Hope of the Breaking Storm</td>\n",
       "      <td>4.23</td>\n",
       "      <td>12</td>\n",
       "    </tr>\n",
       "    <tr>\n",
       "      <th>26</th>\n",
       "      <td>658</td>\n",
       "      <td>Quilassa66</td>\n",
       "      <td>7</td>\n",
       "      <td>Female</td>\n",
       "      <td>178</td>\n",
       "      <td>Oathbreaker, Last Hope of the Breaking Storm</td>\n",
       "      <td>4.23</td>\n",
       "      <td>12</td>\n",
       "    </tr>\n",
       "    <tr>\n",
       "      <th>27</th>\n",
       "      <td>706</td>\n",
       "      <td>Chanossanya44</td>\n",
       "      <td>20</td>\n",
       "      <td>Male</td>\n",
       "      <td>178</td>\n",
       "      <td>Oathbreaker, Last Hope of the Breaking Storm</td>\n",
       "      <td>4.23</td>\n",
       "      <td>12</td>\n",
       "    </tr>\n",
       "    <tr>\n",
       "      <th>28</th>\n",
       "      <td>730</td>\n",
       "      <td>Aidaira26</td>\n",
       "      <td>30</td>\n",
       "      <td>Male</td>\n",
       "      <td>178</td>\n",
       "      <td>Oathbreaker, Last Hope of the Breaking Storm</td>\n",
       "      <td>4.23</td>\n",
       "      <td>12</td>\n",
       "    </tr>\n",
       "    <tr>\n",
       "      <th>29</th>\n",
       "      <td>753</td>\n",
       "      <td>Frichirranya75</td>\n",
       "      <td>36</td>\n",
       "      <td>Male</td>\n",
       "      <td>178</td>\n",
       "      <td>Oathbreaker, Last Hope of the Breaking Storm</td>\n",
       "      <td>4.23</td>\n",
       "      <td>12</td>\n",
       "    </tr>\n",
       "    <tr>\n",
       "      <th>30</th>\n",
       "      <td>126</td>\n",
       "      <td>Frichim77</td>\n",
       "      <td>24</td>\n",
       "      <td>Male</td>\n",
       "      <td>75</td>\n",
       "      <td>Brutality Ivory Warmace</td>\n",
       "      <td>2.42</td>\n",
       "      <td>8</td>\n",
       "    </tr>\n",
       "    <tr>\n",
       "      <th>31</th>\n",
       "      <td>170</td>\n",
       "      <td>Lisopela58</td>\n",
       "      <td>22</td>\n",
       "      <td>Male</td>\n",
       "      <td>75</td>\n",
       "      <td>Brutality Ivory Warmace</td>\n",
       "      <td>2.42</td>\n",
       "      <td>8</td>\n",
       "    </tr>\n",
       "    <tr>\n",
       "      <th>32</th>\n",
       "      <td>390</td>\n",
       "      <td>Asur53</td>\n",
       "      <td>26</td>\n",
       "      <td>Male</td>\n",
       "      <td>75</td>\n",
       "      <td>Brutality Ivory Warmace</td>\n",
       "      <td>2.42</td>\n",
       "      <td>8</td>\n",
       "    </tr>\n",
       "    <tr>\n",
       "      <th>33</th>\n",
       "      <td>440</td>\n",
       "      <td>Aisurdru79</td>\n",
       "      <td>29</td>\n",
       "      <td>Female</td>\n",
       "      <td>75</td>\n",
       "      <td>Brutality Ivory Warmace</td>\n",
       "      <td>2.42</td>\n",
       "      <td>8</td>\n",
       "    </tr>\n",
       "    <tr>\n",
       "      <th>34</th>\n",
       "      <td>548</td>\n",
       "      <td>Yathecal82</td>\n",
       "      <td>20</td>\n",
       "      <td>Female</td>\n",
       "      <td>75</td>\n",
       "      <td>Brutality Ivory Warmace</td>\n",
       "      <td>2.42</td>\n",
       "      <td>8</td>\n",
       "    </tr>\n",
       "    <tr>\n",
       "      <th>35</th>\n",
       "      <td>626</td>\n",
       "      <td>Syathecal44</td>\n",
       "      <td>16</td>\n",
       "      <td>Male</td>\n",
       "      <td>75</td>\n",
       "      <td>Brutality Ivory Warmace</td>\n",
       "      <td>2.42</td>\n",
       "      <td>8</td>\n",
       "    </tr>\n",
       "    <tr>\n",
       "      <th>36</th>\n",
       "      <td>652</td>\n",
       "      <td>Pheosrinudeu70</td>\n",
       "      <td>20</td>\n",
       "      <td>Male</td>\n",
       "      <td>75</td>\n",
       "      <td>Brutality Ivory Warmace</td>\n",
       "      <td>2.42</td>\n",
       "      <td>8</td>\n",
       "    </tr>\n",
       "    <tr>\n",
       "      <th>37</th>\n",
       "      <td>709</td>\n",
       "      <td>Lisast87</td>\n",
       "      <td>19</td>\n",
       "      <td>Male</td>\n",
       "      <td>75</td>\n",
       "      <td>Brutality Ivory Warmace</td>\n",
       "      <td>2.42</td>\n",
       "      <td>8</td>\n",
       "    </tr>\n",
       "    <tr>\n",
       "      <th>38</th>\n",
       "      <td>132</td>\n",
       "      <td>Inguron55</td>\n",
       "      <td>23</td>\n",
       "      <td>Male</td>\n",
       "      <td>145</td>\n",
       "      <td>Fiery Glass Crusader</td>\n",
       "      <td>4.58</td>\n",
       "      <td>9</td>\n",
       "    </tr>\n",
       "    <tr>\n",
       "      <th>39</th>\n",
       "      <td>207</td>\n",
       "      <td>Sondastsda82</td>\n",
       "      <td>24</td>\n",
       "      <td>Male</td>\n",
       "      <td>145</td>\n",
       "      <td>Fiery Glass Crusader</td>\n",
       "      <td>4.58</td>\n",
       "      <td>9</td>\n",
       "    </tr>\n",
       "    <tr>\n",
       "      <th>40</th>\n",
       "      <td>329</td>\n",
       "      <td>Ceoral34</td>\n",
       "      <td>20</td>\n",
       "      <td>Male</td>\n",
       "      <td>145</td>\n",
       "      <td>Fiery Glass Crusader</td>\n",
       "      <td>4.58</td>\n",
       "      <td>9</td>\n",
       "    </tr>\n",
       "    <tr>\n",
       "      <th>41</th>\n",
       "      <td>438</td>\n",
       "      <td>Qilunan34</td>\n",
       "      <td>23</td>\n",
       "      <td>Male</td>\n",
       "      <td>145</td>\n",
       "      <td>Fiery Glass Crusader</td>\n",
       "      <td>4.58</td>\n",
       "      <td>9</td>\n",
       "    </tr>\n",
       "    <tr>\n",
       "      <th>42</th>\n",
       "      <td>474</td>\n",
       "      <td>Ina92</td>\n",
       "      <td>31</td>\n",
       "      <td>Male</td>\n",
       "      <td>145</td>\n",
       "      <td>Fiery Glass Crusader</td>\n",
       "      <td>4.58</td>\n",
       "      <td>9</td>\n",
       "    </tr>\n",
       "    <tr>\n",
       "      <th>43</th>\n",
       "      <td>572</td>\n",
       "      <td>Yoishirrala98</td>\n",
       "      <td>17</td>\n",
       "      <td>Female</td>\n",
       "      <td>145</td>\n",
       "      <td>Fiery Glass Crusader</td>\n",
       "      <td>4.58</td>\n",
       "      <td>9</td>\n",
       "    </tr>\n",
       "    <tr>\n",
       "      <th>44</th>\n",
       "      <td>683</td>\n",
       "      <td>Ialallo29</td>\n",
       "      <td>15</td>\n",
       "      <td>Female</td>\n",
       "      <td>145</td>\n",
       "      <td>Fiery Glass Crusader</td>\n",
       "      <td>4.58</td>\n",
       "      <td>9</td>\n",
       "    </tr>\n",
       "    <tr>\n",
       "      <th>45</th>\n",
       "      <td>741</td>\n",
       "      <td>Phiallylis33</td>\n",
       "      <td>19</td>\n",
       "      <td>Male</td>\n",
       "      <td>145</td>\n",
       "      <td>Fiery Glass Crusader</td>\n",
       "      <td>4.58</td>\n",
       "      <td>9</td>\n",
       "    </tr>\n",
       "    <tr>\n",
       "      <th>46</th>\n",
       "      <td>769</td>\n",
       "      <td>Ilosian36</td>\n",
       "      <td>15</td>\n",
       "      <td>Male</td>\n",
       "      <td>145</td>\n",
       "      <td>Fiery Glass Crusader</td>\n",
       "      <td>4.58</td>\n",
       "      <td>9</td>\n",
       "    </tr>\n",
       "  </tbody>\n",
       "</table>\n",
       "</div>"
      ],
      "text/plain": [
       "    Purchase ID              SN  Age  Gender  Item ID  \\\n",
       "0             0         Lisim78   20    Male      108   \n",
       "1            56        Raesty92   12    Male      108   \n",
       "2           157        Marast30   18  Female      108   \n",
       "3           414      Marokian45   23    Male      108   \n",
       "4           483    Saistyphos30   35    Male      108   \n",
       "5           498         Firon67   35    Male      108   \n",
       "6           558   Lassadarsda57   25  Female      108   \n",
       "7           640      Sausosia74   22    Male      108   \n",
       "8           678       Rarallo90   33    Male      108   \n",
       "9            18       Reunasu60   22  Female       82   \n",
       "10           88      Laedallo55   30    Male       82   \n",
       "11          202       Phistym51   37    Male       82   \n",
       "12          240    Lirtastsda29   16    Male       82   \n",
       "13          247     Iskadarya95   20    Male       82   \n",
       "14          274   Aerithllora36   29  Female       82   \n",
       "15          504    Chamilsala65   23  Female       82   \n",
       "16          522     Meosridil82   18    Male       82   \n",
       "17          666      Assilsan72   20  Female       82   \n",
       "18           25       Lisirra87   29    Male      178   \n",
       "19           61      Jiskimya77   17    Male      178   \n",
       "20           62      Yadaphos40   30    Male      178   \n",
       "21           72       Marilsa69   25  Female      178   \n",
       "22          222      Chamjask73   22  Female      178   \n",
       "23          464    Rianistast50   22    Male      178   \n",
       "24          580         Tyida79   24    Male      178   \n",
       "25          627          Arin32   25    Male      178   \n",
       "26          658      Quilassa66    7  Female      178   \n",
       "27          706   Chanossanya44   20    Male      178   \n",
       "28          730       Aidaira26   30    Male      178   \n",
       "29          753  Frichirranya75   36    Male      178   \n",
       "30          126       Frichim77   24    Male       75   \n",
       "31          170      Lisopela58   22    Male       75   \n",
       "32          390          Asur53   26    Male       75   \n",
       "33          440      Aisurdru79   29  Female       75   \n",
       "34          548      Yathecal82   20  Female       75   \n",
       "35          626     Syathecal44   16    Male       75   \n",
       "36          652  Pheosrinudeu70   20    Male       75   \n",
       "37          709        Lisast87   19    Male       75   \n",
       "38          132       Inguron55   23    Male      145   \n",
       "39          207    Sondastsda82   24    Male      145   \n",
       "40          329        Ceoral34   20    Male      145   \n",
       "41          438       Qilunan34   23    Male      145   \n",
       "42          474           Ina92   31    Male      145   \n",
       "43          572   Yoishirrala98   17  Female      145   \n",
       "44          683       Ialallo29   15  Female      145   \n",
       "45          741    Phiallylis33   19    Male      145   \n",
       "46          769       Ilosian36   15    Male      145   \n",
       "\n",
       "                                       Item Name  PricePer Item  \\\n",
       "0      Extraction, Quickblade Of Trembling Hands           3.53   \n",
       "1      Extraction, Quickblade Of Trembling Hands           3.53   \n",
       "2      Extraction, Quickblade Of Trembling Hands           3.53   \n",
       "3      Extraction, Quickblade Of Trembling Hands           3.53   \n",
       "4      Extraction, Quickblade Of Trembling Hands           3.53   \n",
       "5      Extraction, Quickblade Of Trembling Hands           3.53   \n",
       "6      Extraction, Quickblade Of Trembling Hands           3.53   \n",
       "7      Extraction, Quickblade Of Trembling Hands           3.53   \n",
       "8      Extraction, Quickblade Of Trembling Hands           3.53   \n",
       "9                                        Nirvana           4.90   \n",
       "10                                       Nirvana           4.90   \n",
       "11                                       Nirvana           4.90   \n",
       "12                                       Nirvana           4.90   \n",
       "13                                       Nirvana           4.90   \n",
       "14                                       Nirvana           4.90   \n",
       "15                                       Nirvana           4.90   \n",
       "16                                       Nirvana           4.90   \n",
       "17                                       Nirvana           4.90   \n",
       "18  Oathbreaker, Last Hope of the Breaking Storm           4.23   \n",
       "19  Oathbreaker, Last Hope of the Breaking Storm           4.23   \n",
       "20  Oathbreaker, Last Hope of the Breaking Storm           4.23   \n",
       "21  Oathbreaker, Last Hope of the Breaking Storm           4.23   \n",
       "22  Oathbreaker, Last Hope of the Breaking Storm           4.23   \n",
       "23  Oathbreaker, Last Hope of the Breaking Storm           4.23   \n",
       "24  Oathbreaker, Last Hope of the Breaking Storm           4.23   \n",
       "25  Oathbreaker, Last Hope of the Breaking Storm           4.23   \n",
       "26  Oathbreaker, Last Hope of the Breaking Storm           4.23   \n",
       "27  Oathbreaker, Last Hope of the Breaking Storm           4.23   \n",
       "28  Oathbreaker, Last Hope of the Breaking Storm           4.23   \n",
       "29  Oathbreaker, Last Hope of the Breaking Storm           4.23   \n",
       "30                       Brutality Ivory Warmace           2.42   \n",
       "31                       Brutality Ivory Warmace           2.42   \n",
       "32                       Brutality Ivory Warmace           2.42   \n",
       "33                       Brutality Ivory Warmace           2.42   \n",
       "34                       Brutality Ivory Warmace           2.42   \n",
       "35                       Brutality Ivory Warmace           2.42   \n",
       "36                       Brutality Ivory Warmace           2.42   \n",
       "37                       Brutality Ivory Warmace           2.42   \n",
       "38                          Fiery Glass Crusader           4.58   \n",
       "39                          Fiery Glass Crusader           4.58   \n",
       "40                          Fiery Glass Crusader           4.58   \n",
       "41                          Fiery Glass Crusader           4.58   \n",
       "42                          Fiery Glass Crusader           4.58   \n",
       "43                          Fiery Glass Crusader           4.58   \n",
       "44                          Fiery Glass Crusader           4.58   \n",
       "45                          Fiery Glass Crusader           4.58   \n",
       "46                          Fiery Glass Crusader           4.58   \n",
       "\n",
       "    PriceItem Total  \n",
       "0                 9  \n",
       "1                 9  \n",
       "2                 9  \n",
       "3                 9  \n",
       "4                 9  \n",
       "5                 9  \n",
       "6                 9  \n",
       "7                 9  \n",
       "8                 9  \n",
       "9                 9  \n",
       "10                9  \n",
       "11                9  \n",
       "12                9  \n",
       "13                9  \n",
       "14                9  \n",
       "15                9  \n",
       "16                9  \n",
       "17                9  \n",
       "18               12  \n",
       "19               12  \n",
       "20               12  \n",
       "21               12  \n",
       "22               12  \n",
       "23               12  \n",
       "24               12  \n",
       "25               12  \n",
       "26               12  \n",
       "27               12  \n",
       "28               12  \n",
       "29               12  \n",
       "30                8  \n",
       "31                8  \n",
       "32                8  \n",
       "33                8  \n",
       "34                8  \n",
       "35                8  \n",
       "36                8  \n",
       "37                8  \n",
       "38                9  \n",
       "39                9  \n",
       "40                9  \n",
       "41                9  \n",
       "42                9  \n",
       "43                9  \n",
       "44                9  \n",
       "45                9  \n",
       "46                9  "
      ]
     },
     "execution_count": 35,
     "metadata": {},
     "output_type": "execute_result"
    }
   ],
   "source": [
    "pd.merge(purchase_data, largest_item, how='inner', on=['Item Name'], suffixes=('Per Item', 'Item Total' ))"
   ]
  },
  {
   "cell_type": "code",
   "execution_count": null,
   "metadata": {},
   "outputs": [],
   "source": []
  },
  {
   "cell_type": "code",
   "execution_count": null,
   "metadata": {},
   "outputs": [],
   "source": []
  },
  {
   "cell_type": "markdown",
   "metadata": {},
   "source": [
    "## Most Profitable Items"
   ]
  },
  {
   "cell_type": "markdown",
   "metadata": {},
   "source": [
    "* Sort the above table by total purchase value in descending order\n",
    "\n",
    "\n",
    "* Optional: give the displayed data cleaner formatting\n",
    "\n",
    "\n",
    "* Display a preview of the data frame\n",
    "\n"
   ]
  },
  {
   "cell_type": "code",
   "execution_count": 36,
   "metadata": {
    "scrolled": true
   },
   "outputs": [
    {
     "data": {
      "text/html": [
       "<div>\n",
       "<style scoped>\n",
       "    .dataframe tbody tr th:only-of-type {\n",
       "        vertical-align: middle;\n",
       "    }\n",
       "\n",
       "    .dataframe tbody tr th {\n",
       "        vertical-align: top;\n",
       "    }\n",
       "\n",
       "    .dataframe thead th {\n",
       "        text-align: right;\n",
       "    }\n",
       "</style>\n",
       "<table border=\"1\" class=\"dataframe\">\n",
       "  <thead>\n",
       "    <tr style=\"text-align: right;\">\n",
       "      <th></th>\n",
       "      <th>Price</th>\n",
       "    </tr>\n",
       "    <tr>\n",
       "      <th>Item ID</th>\n",
       "      <th></th>\n",
       "    </tr>\n",
       "  </thead>\n",
       "  <tbody>\n",
       "    <tr>\n",
       "      <th>178</th>\n",
       "      <td>50.76</td>\n",
       "    </tr>\n",
       "    <tr>\n",
       "      <th>82</th>\n",
       "      <td>44.10</td>\n",
       "    </tr>\n",
       "    <tr>\n",
       "      <th>145</th>\n",
       "      <td>41.22</td>\n",
       "    </tr>\n",
       "    <tr>\n",
       "      <th>92</th>\n",
       "      <td>39.04</td>\n",
       "    </tr>\n",
       "    <tr>\n",
       "      <th>103</th>\n",
       "      <td>34.80</td>\n",
       "    </tr>\n",
       "  </tbody>\n",
       "</table>\n",
       "</div>"
      ],
      "text/plain": [
       "         Price\n",
       "Item ID       \n",
       "178      50.76\n",
       "82       44.10\n",
       "145      41.22\n",
       "92       39.04\n",
       "103      34.80"
      ]
     },
     "execution_count": 36,
     "metadata": {},
     "output_type": "execute_result"
    }
   ],
   "source": [
    "item_five = pd.DataFrame(purchase_data.groupby('Item ID')['Price'].sum().nlargest(5))\n",
    "item_five"
   ]
  },
  {
   "cell_type": "code",
   "execution_count": 37,
   "metadata": {},
   "outputs": [
    {
     "data": {
      "text/plain": [
       "Item Name\n",
       "Oathbreaker, Last Hope of the Breaking Storm    12\n",
       "Fiery Glass Crusader                             9\n",
       "Nirvana                                          9\n",
       "Final Critic                                     8\n",
       "Singed Scalpel                                   8\n",
       "Name: Item Name, dtype: int64"
      ]
     },
     "execution_count": 37,
     "metadata": {},
     "output_type": "execute_result"
    }
   ],
   "source": [
    "merge = pd.merge(purchase_data, item_five, how='inner', on=['Item ID'])\n",
    "merge_again = merge.groupby(\"Item Name\")\n",
    "merge_again[\"Item Name\"].count().nlargest()"
   ]
  },
  {
   "cell_type": "code",
   "execution_count": 38,
   "metadata": {},
   "outputs": [
    {
     "data": {
      "text/html": [
       "<div>\n",
       "<style scoped>\n",
       "    .dataframe tbody tr th:only-of-type {\n",
       "        vertical-align: middle;\n",
       "    }\n",
       "\n",
       "    .dataframe tbody tr th {\n",
       "        vertical-align: top;\n",
       "    }\n",
       "\n",
       "    .dataframe thead th {\n",
       "        text-align: right;\n",
       "    }\n",
       "</style>\n",
       "<table border=\"1\" class=\"dataframe\">\n",
       "  <thead>\n",
       "    <tr style=\"text-align: right;\">\n",
       "      <th></th>\n",
       "    </tr>\n",
       "  </thead>\n",
       "  <tbody>\n",
       "  </tbody>\n",
       "</table>\n",
       "</div>"
      ],
      "text/plain": [
       "Empty DataFrame\n",
       "Columns: []\n",
       "Index: []"
      ]
     },
     "execution_count": 38,
     "metadata": {},
     "output_type": "execute_result"
    }
   ],
   "source": [
    "#.dataframe is screwing up data for some reason\n",
    "pd.DataFrame()"
   ]
  }
 ],
 "metadata": {
  "anaconda-cloud": {},
  "kernel_info": {
   "name": "python3"
  },
  "kernelspec": {
   "display_name": "Python 3",
   "language": "python",
   "name": "python3"
  },
  "language_info": {
   "codemirror_mode": {
    "name": "ipython",
    "version": 3
   },
   "file_extension": ".py",
   "mimetype": "text/x-python",
   "name": "python",
   "nbconvert_exporter": "python",
   "pygments_lexer": "ipython3",
   "version": "3.6.7"
  },
  "nteract": {
   "version": "0.2.0"
  }
 },
 "nbformat": 4,
 "nbformat_minor": 2
}
